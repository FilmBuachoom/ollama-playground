{
  "nbformat": 4,
  "nbformat_minor": 0,
  "metadata": {
    "colab": {
      "provenance": [],
      "gpuType": "L4",
      "machine_shape": "hm"
    },
    "kernelspec": {
      "name": "python3",
      "display_name": "Python 3"
    },
    "language_info": {
      "name": "python"
    },
    "accelerator": "GPU",
    "widgets": {
      "application/vnd.jupyter.widget-state+json": {
        "ba9c293ccc2b4a89bd98f8c523219d04": {
          "model_module": "@jupyter-widgets/controls",
          "model_name": "HBoxModel",
          "model_module_version": "1.5.0",
          "state": {
            "_dom_classes": [],
            "_model_module": "@jupyter-widgets/controls",
            "_model_module_version": "1.5.0",
            "_model_name": "HBoxModel",
            "_view_count": null,
            "_view_module": "@jupyter-widgets/controls",
            "_view_module_version": "1.5.0",
            "_view_name": "HBoxView",
            "box_style": "",
            "children": [
              "IPY_MODEL_cf13b8fcb99f48e7b4f3f78067135328",
              "IPY_MODEL_ac5012efccb0404b8137832899ad63f4",
              "IPY_MODEL_d3ffc23cea6a44478ce9d78aa0241653"
            ],
            "layout": "IPY_MODEL_6794300b385d401e83ad6e76c38b75b5"
          }
        },
        "cf13b8fcb99f48e7b4f3f78067135328": {
          "model_module": "@jupyter-widgets/controls",
          "model_name": "HTMLModel",
          "model_module_version": "1.5.0",
          "state": {
            "_dom_classes": [],
            "_model_module": "@jupyter-widgets/controls",
            "_model_module_version": "1.5.0",
            "_model_name": "HTMLModel",
            "_view_count": null,
            "_view_module": "@jupyter-widgets/controls",
            "_view_module_version": "1.5.0",
            "_view_name": "HTMLView",
            "description": "",
            "description_tooltip": null,
            "layout": "IPY_MODEL_b026e8332d284718827943c0ddaee65c",
            "placeholder": "​",
            "style": "IPY_MODEL_658ed124e6c24bea893a23c75796bf24",
            "value": "Loading checkpoint shards: 100%"
          }
        },
        "ac5012efccb0404b8137832899ad63f4": {
          "model_module": "@jupyter-widgets/controls",
          "model_name": "FloatProgressModel",
          "model_module_version": "1.5.0",
          "state": {
            "_dom_classes": [],
            "_model_module": "@jupyter-widgets/controls",
            "_model_module_version": "1.5.0",
            "_model_name": "FloatProgressModel",
            "_view_count": null,
            "_view_module": "@jupyter-widgets/controls",
            "_view_module_version": "1.5.0",
            "_view_name": "ProgressView",
            "bar_style": "success",
            "description": "",
            "description_tooltip": null,
            "layout": "IPY_MODEL_01d0ae7aa2bd487a9ec688390cc557a6",
            "max": 4,
            "min": 0,
            "orientation": "horizontal",
            "style": "IPY_MODEL_0d791dca08b34399aed9fb25e86c7833",
            "value": 4
          }
        },
        "d3ffc23cea6a44478ce9d78aa0241653": {
          "model_module": "@jupyter-widgets/controls",
          "model_name": "HTMLModel",
          "model_module_version": "1.5.0",
          "state": {
            "_dom_classes": [],
            "_model_module": "@jupyter-widgets/controls",
            "_model_module_version": "1.5.0",
            "_model_name": "HTMLModel",
            "_view_count": null,
            "_view_module": "@jupyter-widgets/controls",
            "_view_module_version": "1.5.0",
            "_view_name": "HTMLView",
            "description": "",
            "description_tooltip": null,
            "layout": "IPY_MODEL_3593b41134d94b33a91023de6acd4af5",
            "placeholder": "​",
            "style": "IPY_MODEL_c26ae74a965046548497599fe03fe58f",
            "value": " 4/4 [00:06&lt;00:00,  1.55s/it]"
          }
        },
        "6794300b385d401e83ad6e76c38b75b5": {
          "model_module": "@jupyter-widgets/base",
          "model_name": "LayoutModel",
          "model_module_version": "1.2.0",
          "state": {
            "_model_module": "@jupyter-widgets/base",
            "_model_module_version": "1.2.0",
            "_model_name": "LayoutModel",
            "_view_count": null,
            "_view_module": "@jupyter-widgets/base",
            "_view_module_version": "1.2.0",
            "_view_name": "LayoutView",
            "align_content": null,
            "align_items": null,
            "align_self": null,
            "border": null,
            "bottom": null,
            "display": null,
            "flex": null,
            "flex_flow": null,
            "grid_area": null,
            "grid_auto_columns": null,
            "grid_auto_flow": null,
            "grid_auto_rows": null,
            "grid_column": null,
            "grid_gap": null,
            "grid_row": null,
            "grid_template_areas": null,
            "grid_template_columns": null,
            "grid_template_rows": null,
            "height": null,
            "justify_content": null,
            "justify_items": null,
            "left": null,
            "margin": null,
            "max_height": null,
            "max_width": null,
            "min_height": null,
            "min_width": null,
            "object_fit": null,
            "object_position": null,
            "order": null,
            "overflow": null,
            "overflow_x": null,
            "overflow_y": null,
            "padding": null,
            "right": null,
            "top": null,
            "visibility": null,
            "width": null
          }
        },
        "b026e8332d284718827943c0ddaee65c": {
          "model_module": "@jupyter-widgets/base",
          "model_name": "LayoutModel",
          "model_module_version": "1.2.0",
          "state": {
            "_model_module": "@jupyter-widgets/base",
            "_model_module_version": "1.2.0",
            "_model_name": "LayoutModel",
            "_view_count": null,
            "_view_module": "@jupyter-widgets/base",
            "_view_module_version": "1.2.0",
            "_view_name": "LayoutView",
            "align_content": null,
            "align_items": null,
            "align_self": null,
            "border": null,
            "bottom": null,
            "display": null,
            "flex": null,
            "flex_flow": null,
            "grid_area": null,
            "grid_auto_columns": null,
            "grid_auto_flow": null,
            "grid_auto_rows": null,
            "grid_column": null,
            "grid_gap": null,
            "grid_row": null,
            "grid_template_areas": null,
            "grid_template_columns": null,
            "grid_template_rows": null,
            "height": null,
            "justify_content": null,
            "justify_items": null,
            "left": null,
            "margin": null,
            "max_height": null,
            "max_width": null,
            "min_height": null,
            "min_width": null,
            "object_fit": null,
            "object_position": null,
            "order": null,
            "overflow": null,
            "overflow_x": null,
            "overflow_y": null,
            "padding": null,
            "right": null,
            "top": null,
            "visibility": null,
            "width": null
          }
        },
        "658ed124e6c24bea893a23c75796bf24": {
          "model_module": "@jupyter-widgets/controls",
          "model_name": "DescriptionStyleModel",
          "model_module_version": "1.5.0",
          "state": {
            "_model_module": "@jupyter-widgets/controls",
            "_model_module_version": "1.5.0",
            "_model_name": "DescriptionStyleModel",
            "_view_count": null,
            "_view_module": "@jupyter-widgets/base",
            "_view_module_version": "1.2.0",
            "_view_name": "StyleView",
            "description_width": ""
          }
        },
        "01d0ae7aa2bd487a9ec688390cc557a6": {
          "model_module": "@jupyter-widgets/base",
          "model_name": "LayoutModel",
          "model_module_version": "1.2.0",
          "state": {
            "_model_module": "@jupyter-widgets/base",
            "_model_module_version": "1.2.0",
            "_model_name": "LayoutModel",
            "_view_count": null,
            "_view_module": "@jupyter-widgets/base",
            "_view_module_version": "1.2.0",
            "_view_name": "LayoutView",
            "align_content": null,
            "align_items": null,
            "align_self": null,
            "border": null,
            "bottom": null,
            "display": null,
            "flex": null,
            "flex_flow": null,
            "grid_area": null,
            "grid_auto_columns": null,
            "grid_auto_flow": null,
            "grid_auto_rows": null,
            "grid_column": null,
            "grid_gap": null,
            "grid_row": null,
            "grid_template_areas": null,
            "grid_template_columns": null,
            "grid_template_rows": null,
            "height": null,
            "justify_content": null,
            "justify_items": null,
            "left": null,
            "margin": null,
            "max_height": null,
            "max_width": null,
            "min_height": null,
            "min_width": null,
            "object_fit": null,
            "object_position": null,
            "order": null,
            "overflow": null,
            "overflow_x": null,
            "overflow_y": null,
            "padding": null,
            "right": null,
            "top": null,
            "visibility": null,
            "width": null
          }
        },
        "0d791dca08b34399aed9fb25e86c7833": {
          "model_module": "@jupyter-widgets/controls",
          "model_name": "ProgressStyleModel",
          "model_module_version": "1.5.0",
          "state": {
            "_model_module": "@jupyter-widgets/controls",
            "_model_module_version": "1.5.0",
            "_model_name": "ProgressStyleModel",
            "_view_count": null,
            "_view_module": "@jupyter-widgets/base",
            "_view_module_version": "1.2.0",
            "_view_name": "StyleView",
            "bar_color": null,
            "description_width": ""
          }
        },
        "3593b41134d94b33a91023de6acd4af5": {
          "model_module": "@jupyter-widgets/base",
          "model_name": "LayoutModel",
          "model_module_version": "1.2.0",
          "state": {
            "_model_module": "@jupyter-widgets/base",
            "_model_module_version": "1.2.0",
            "_model_name": "LayoutModel",
            "_view_count": null,
            "_view_module": "@jupyter-widgets/base",
            "_view_module_version": "1.2.0",
            "_view_name": "LayoutView",
            "align_content": null,
            "align_items": null,
            "align_self": null,
            "border": null,
            "bottom": null,
            "display": null,
            "flex": null,
            "flex_flow": null,
            "grid_area": null,
            "grid_auto_columns": null,
            "grid_auto_flow": null,
            "grid_auto_rows": null,
            "grid_column": null,
            "grid_gap": null,
            "grid_row": null,
            "grid_template_areas": null,
            "grid_template_columns": null,
            "grid_template_rows": null,
            "height": null,
            "justify_content": null,
            "justify_items": null,
            "left": null,
            "margin": null,
            "max_height": null,
            "max_width": null,
            "min_height": null,
            "min_width": null,
            "object_fit": null,
            "object_position": null,
            "order": null,
            "overflow": null,
            "overflow_x": null,
            "overflow_y": null,
            "padding": null,
            "right": null,
            "top": null,
            "visibility": null,
            "width": null
          }
        },
        "c26ae74a965046548497599fe03fe58f": {
          "model_module": "@jupyter-widgets/controls",
          "model_name": "DescriptionStyleModel",
          "model_module_version": "1.5.0",
          "state": {
            "_model_module": "@jupyter-widgets/controls",
            "_model_module_version": "1.5.0",
            "_model_name": "DescriptionStyleModel",
            "_view_count": null,
            "_view_module": "@jupyter-widgets/base",
            "_view_module_version": "1.2.0",
            "_view_name": "StyleView",
            "description_width": ""
          }
        }
      }
    }
  },
  "cells": [
    {
      "cell_type": "markdown",
      "source": [
        "# Install Requirement"
      ],
      "metadata": {
        "id": "GNxexIWw7GDp"
      }
    },
    {
      "cell_type": "code",
      "execution_count": null,
      "metadata": {
        "id": "wqPQTZv-4yTW"
      },
      "outputs": [],
      "source": [
        "!pip3 install -q -U bitsandbytes==0.42.0\n",
        "!pip3 install -q -U peft==0.8.2\n",
        "!pip3 install -q -U trl==0.7.10\n",
        "# !pip3 install -q -U accelerate==0.27.1\n",
        "!pip3 install -q -U datasets\n",
        "# !pip3 install -q -U transformers==4.42.0\n",
        "!pip3 install -q -U accelerate\n",
        "!pip3 install -q -U transformers"
      ]
    },
    {
      "cell_type": "code",
      "source": [
        "!huggingface-cli login --token YOUR_TOKEN_ID"
      ],
      "metadata": {
        "colab": {
          "base_uri": "https://localhost:8080/"
        },
        "id": "k7J0D5kN47uF",
        "outputId": "fa0574ae-d6b2-4357-8d65-a7ea5b83623b"
      },
      "execution_count": null,
      "outputs": [
        {
          "output_type": "stream",
          "name": "stdout",
          "text": [
            "The token has not been saved to the git credentials helper. Pass `add_to_git_credential=True` in this function directly or `--add-to-git-credential` if using via `huggingface-cli` if you want to set the git credential as well.\n",
            "Token is valid (permission: write).\n",
            "Your token has been saved to /root/.cache/huggingface/token\n",
            "Login successful\n"
          ]
        }
      ]
    },
    {
      "cell_type": "markdown",
      "source": [
        "# Load Library"
      ],
      "metadata": {
        "id": "mDNOscCp7M80"
      }
    },
    {
      "cell_type": "code",
      "source": [
        "import os\n",
        "os.environ[\"CUDA_VISIBLE_DEVICES\"] = \"0\"\n",
        "os.environ[\"TOKENIZERS_PARALLELISM\"] = \"false\""
      ],
      "metadata": {
        "id": "v6nrgoc16Bv0"
      },
      "execution_count": null,
      "outputs": []
    },
    {
      "cell_type": "code",
      "source": [
        "import warnings\n",
        "warnings.filterwarnings(\"ignore\")"
      ],
      "metadata": {
        "id": "-42ESqZV6EsM"
      },
      "execution_count": null,
      "outputs": []
    },
    {
      "cell_type": "code",
      "source": [
        "import numpy as np\n",
        "import pandas as pd\n",
        "import os\n",
        "from tqdm import tqdm\n",
        "\n",
        "import torch\n",
        "import torch.nn as nn\n",
        "\n",
        "import transformers\n",
        "from transformers import (AutoModelForCausalLM,\n",
        "                          AutoTokenizer,\n",
        "                          BitsAndBytesConfig,\n",
        "                          TrainingArguments,\n",
        "                          pipeline,\n",
        "                          logging)\n",
        "from datasets import Dataset\n",
        "from peft import LoraConfig, PeftConfig\n",
        "import bitsandbytes as bnb\n",
        "\n",
        "from sklearn.metrics import (accuracy_score,\n",
        "                             classification_report,\n",
        "                             confusion_matrix)\n",
        "from sklearn.model_selection import train_test_split"
      ],
      "metadata": {
        "id": "VXKBf78e6FsJ"
      },
      "execution_count": null,
      "outputs": []
    },
    {
      "cell_type": "markdown",
      "source": [
        "# Load Model"
      ],
      "metadata": {
        "id": "k-bp7D3e7PfM"
      }
    },
    {
      "cell_type": "code",
      "source": [
        "bnb_config = BitsAndBytesConfig(\n",
        "    load_in_4bit=True,\n",
        "    bnb_4bit_use_double_quant=False,\n",
        "    bnb_4bit_quant_type=\"nf4\",\n",
        "    bnb_4bit_compute_dtype=torch.bfloat16,\n",
        ")"
      ],
      "metadata": {
        "id": "pWx2pezDcFi0"
      },
      "execution_count": null,
      "outputs": []
    },
    {
      "cell_type": "code",
      "source": [
        "model_name = \"google/gemma-2-9b-it\"\n",
        "tokenizer = AutoTokenizer.from_pretrained(model_name)\n",
        "model = AutoModelForCausalLM.from_pretrained(\n",
        "    model_name,\n",
        "    device_map=\"auto\",\n",
        "    torch_dtype=torch.bfloat16,\n",
        "    # quantization_config=bnb_config\n",
        ")"
      ],
      "metadata": {
        "colab": {
          "base_uri": "https://localhost:8080/",
          "height": 49,
          "referenced_widgets": [
            "ba9c293ccc2b4a89bd98f8c523219d04",
            "cf13b8fcb99f48e7b4f3f78067135328",
            "ac5012efccb0404b8137832899ad63f4",
            "d3ffc23cea6a44478ce9d78aa0241653",
            "6794300b385d401e83ad6e76c38b75b5",
            "b026e8332d284718827943c0ddaee65c",
            "658ed124e6c24bea893a23c75796bf24",
            "01d0ae7aa2bd487a9ec688390cc557a6",
            "0d791dca08b34399aed9fb25e86c7833",
            "3593b41134d94b33a91023de6acd4af5",
            "c26ae74a965046548497599fe03fe58f"
          ]
        },
        "id": "58x2LJQBcIKP",
        "outputId": "12fcedec-4c10-412c-a852-87fb79cdaafd"
      },
      "execution_count": null,
      "outputs": [
        {
          "output_type": "display_data",
          "data": {
            "text/plain": [
              "Loading checkpoint shards:   0%|          | 0/4 [00:00<?, ?it/s]"
            ],
            "application/vnd.jupyter.widget-view+json": {
              "version_major": 2,
              "version_minor": 0,
              "model_id": "ba9c293ccc2b4a89bd98f8c523219d04"
            }
          },
          "metadata": {}
        }
      ]
    },
    {
      "cell_type": "markdown",
      "source": [
        "# Map Task"
      ],
      "metadata": {
        "id": "pQt_zBTO7Riu"
      }
    },
    {
      "cell_type": "code",
      "source": [
        "map_task = {'new_sum'  : 'Generate News Summarization',\n",
        "'classify' : 'News Text Classification Category',\n",
        "'headline' : 'Generate News Headline Summarization',\n",
        "'tag' : 'Generate News Tags Suggestion'}"
      ],
      "metadata": {
        "id": "rzu8UPic6KwK"
      },
      "execution_count": null,
      "outputs": []
    },
    {
      "cell_type": "code",
      "source": [
        "USER_CHAT_TEMPLATE = '<start_of_turn>user\\n{prompt}<end_of_turn>\\n'\n",
        "MODEL_CHAT_TEMPLATE = '<start_of_turn>model\\n{prompt}<end_of_turn>\\n'"
      ],
      "metadata": {
        "id": "q7KCdrIm6T4J"
      },
      "execution_count": null,
      "outputs": []
    },
    {
      "cell_type": "markdown",
      "source": [
        "# Create Inference Function"
      ],
      "metadata": {
        "id": "Pe9bcGnZ7TB8"
      }
    },
    {
      "cell_type": "code",
      "source": [
        "def news_sum(text, task, model, tokenizer):\n",
        "    base_prompt = 'Analyze the news article and and give a short summarize from the article within maximum 3 sentences in thai language.\\n'\n",
        "    text = text.replace(task, '')\n",
        "    query = base_prompt + text\n",
        "    prompt = (\n",
        "    USER_CHAT_TEMPLATE.format(prompt=query)\n",
        "    + '<start_of_turn>model\\n'\n",
        ")\n",
        "    input_ids = tokenizer(prompt, return_tensors=\"pt\").to(\"cuda\")\n",
        "    outputs = model.generate(**input_ids, max_new_tokens=512, do_sample=True, temperature=0.4, num_beams=5)\n",
        "    result = tokenizer.decode(outputs[0])\n",
        "\n",
        "    return result"
      ],
      "metadata": {
        "id": "s7jfzLsp6VqI"
      },
      "execution_count": null,
      "outputs": []
    },
    {
      "cell_type": "code",
      "source": [
        "def news_title(text, task, model, tokenizer):\n",
        "    base_prompt = 'Analyze the news article and and generate news headline from the article within 1 sentences in thai language.\\n'\n",
        "\n",
        "    text = text.replace(task, '')\n",
        "    query = base_prompt + text\n",
        "    prompt = (\n",
        "    USER_CHAT_TEMPLATE.format(prompt=query)\n",
        "    + '<start_of_turn>model\\n'\n",
        ")\n",
        "    input_ids = tokenizer(prompt, return_tensors=\"pt\").to(\"cuda\")\n",
        "    outputs = model.generate(**input_ids, max_new_tokens=512, do_sample=True, temperature=0.4, num_beams=5)\n",
        "    result = tokenizer.decode(outputs[0])\n",
        "\n",
        "    return result"
      ],
      "metadata": {
        "id": "GSFgojHy6XGg"
      },
      "execution_count": null,
      "outputs": []
    },
    {
      "cell_type": "code",
      "source": [
        "def news_tag(text, task, model, tokenizer):\n",
        "    base_prompt = \"Analyze the news article and generate keywords from news with maximum 5 tags in this format (tag1, tag2, tag3, tag4, tag5).\\nAnswer in thai language except unique name.\"\n",
        "\n",
        "    text = text.replace(task, '')\n",
        "    query = base_prompt + text\n",
        "    prompt = (\n",
        "    USER_CHAT_TEMPLATE.format(prompt=query)\n",
        "    + '<start_of_turn>model\\n'\n",
        ")\n",
        "    input_ids = tokenizer(prompt, return_tensors=\"pt\").to(\"cuda\")\n",
        "    outputs = model.generate(**input_ids, max_new_tokens=512, do_sample=True, temperature=0.4, num_beams=5)\n",
        "    result = tokenizer.decode(outputs[0])\n",
        "\n",
        "    return result"
      ],
      "metadata": {
        "id": "PmxtWyAX6YZE"
      },
      "execution_count": null,
      "outputs": []
    },
    {
      "cell_type": "code",
      "source": [
        "def news_clf(text, task, model, tokenizer):\n",
        "    base_prompt = \"You are multiclass classification model, Analyze the news and selected a single words only form provide list to classify main topic of the news: ['สังคม', 'ต่างประเทศ', 'กีฬา', 'การเมือง', 'อาชญากรรม', 'ศิลปะ-บันเทิง', 'ภูมิภาค', 'เศรษฐกิจ', 'วิทยาศาสตร์เทคโนโลยี', 'ภัยพิบัติ', 'สิ่งแวดล้อม']. do not add other context than words in list.\"\n",
        "\n",
        "    # base_prompt = \"ํYou are multiclass classification model, your role is to classfy query base on provide list ['สังคม', 'ต่างประเทศ', 'กีฬา', 'การเมือง', 'อาชญากรรม', 'ศิลปะ-บันเทิง', 'ภูมิภาค', 'เศรษฐกิจ', 'วิทยาศาสตร์เทคโนโลยี', 'ภัยพิบัติ', 'สิ่งแวดล้อม']. do not add other context than words in list.\"\n",
        "\n",
        "    # base_prompt = \"Analyze the news and classify it from one in list: ['สังคม', 'ต่างประเทศ', 'กีฬา', 'การเมือง', 'อาชญากรรม', 'ศิลปะ-บันเทิง', 'ภูมิภาค', 'เศรษฐกิจ', 'วิทยาศาสตร์เทคโนโลยี', 'ภัยพิบัติ', 'สิ่งแวดล้อม']. do not add other context than words in list.\"\n",
        "    # base_prompt = \"You are multiclass classification model, Analyze the news and selected a single words only form provide list to classify most of the news: ['สังคม', 'ต่างประเทศ', 'กีฬา', 'การเมือง', 'อาชญากรรม', 'ศิลปะ-บันเทิง', 'ภูมิภาค', 'เศรษฐกิจ', 'วิทยาศาสตร์เทคโนโลยี', 'ภัยพิบัติ', 'สิ่งแวดล้อม']. do not add other context than words in list.\"\n",
        "\n",
        "    text = text.replace(task, '')\n",
        "    query = base_prompt + text\n",
        "    prompt = (\n",
        "    USER_CHAT_TEMPLATE.format(prompt=query)\n",
        "    + '<start_of_turn>model\\n'\n",
        ")\n",
        "    input_ids = tokenizer(prompt, return_tensors=\"pt\").to(\"cuda\")\n",
        "    outputs = model.generate(**input_ids, max_new_tokens=512, do_sample=True, temperature=0.4, num_beams=5)\n",
        "    result = tokenizer.decode(outputs[0])\n",
        "\n",
        "    return result"
      ],
      "metadata": {
        "id": "idCmumzo6ZWw"
      },
      "execution_count": null,
      "outputs": []
    },
    {
      "cell_type": "markdown",
      "source": [
        "## Analyze Function"
      ],
      "metadata": {
        "id": "Lmtngivv7Y3-"
      }
    },
    {
      "cell_type": "code",
      "source": [
        "def analyze(task, text, model=model, tokenizer=tokenizer):\n",
        "    map_task = {'news_sum'  : 'Generate News Summarization: ',\n",
        "    'classify' : 'News Text Classification Category: ',\n",
        "    'headline' : 'Generate News Headline Summarization: ',\n",
        "    'tag' : 'Generate News Tags Suggestion: '}\n",
        "    if task == 'classify':\n",
        "        res = news_clf(text, map_task['classify'], model, tokenizer)\n",
        "    elif task == 'news_sum':\n",
        "        res = news_sum(text, map_task['news_sum'], model, tokenizer)\n",
        "    elif task == 'headline':\n",
        "        res = news_title(text, map_task['headline'], model, tokenizer)\n",
        "    elif task == 'tag':\n",
        "        res = news_tag(text, map_task['tag'], model, tokenizer)\n",
        "    torch.cuda.empty_cache()\n",
        "\n",
        "    return res"
      ],
      "metadata": {
        "id": "0njfz5cz6d2i"
      },
      "execution_count": null,
      "outputs": []
    },
    {
      "cell_type": "code",
      "source": [
        "categories = ['สังคม', 'ต่างประเทศ', 'กีฬา', 'การเมือง',\n",
        "              'อาชญากรรม', 'ศิลปะ-บันเทิง', 'ภูมิภาค', 'เศรษฐกิจ',\n",
        "              'วิทยาศาสตร์เทคโนโลยี', 'ภัยพิบัติ', 'สิ่งแวดล้อม']"
      ],
      "metadata": {
        "id": "YjlPmnbM6g9k"
      },
      "execution_count": null,
      "outputs": []
    },
    {
      "cell_type": "markdown",
      "source": [
        "# Inference"
      ],
      "metadata": {
        "id": "3UOG4ONG7dcp"
      }
    },
    {
      "cell_type": "code",
      "source": [
        "query = \"\"\"\n",
        "OpenAI ประกาศซื้อกิจการ Multi (ชื่อเดิม Remotion) สตาร์ทอัปแพลตฟอร์มทำงานร่วมกัน (collaboration) ที่โฟกัสวิดีโอเป็นหลัก และเน้นลูกค้าองค์กร\n",
        "\n",
        "รายงานบอกว่าดีลดังกล่าว OpenAI ไม่ได้ต้องการซื้อแพลตฟอร์มหรือเครื่องมือของ Multi แต่ต้องการซื้อตัวทีมงานพัฒนา ซึ่งมีอยู่ทั้งหมด 5 คน มาร่วมงานกับ OpenAI ซึ่งทำให้ Multi จะปิดให้บริการตั้งแต่ 24 กรกฎาคม เป็นต้นไป\n",
        "\n",
        "Multi ก่อตั้งโดย Alexander Embiricos อดีตผู้จัดการฝ่ายผลิตภัณฑ์ที่ Dropbox โดยตอนนี้เป็นซีอีโอ และ Charley Ho อดีตวิศวกรซอฟต์แวร์ที่กูเกิล ซอฟต์แวร์ Multi มีจุดเด่นเช่น การแชร์หน้าจอพร้อมกันสูงสุด 10 คน ในระหว่างการประชุม รวมถึงการแชร์เอกสารข้อมูลต่าง ๆ\n",
        "\n",
        "ดีลนี้เป็นการซื้อกิจการถัดมาของ OpenAI จากที่ประกาศซื้อสตาร์ทอัปด้านฐานข้อมูล Rockset ไปเมื่อวันก่อน\n",
        "\"\"\""
      ],
      "metadata": {
        "id": "iqwyzvEs6mmp"
      },
      "execution_count": null,
      "outputs": []
    },
    {
      "cell_type": "code",
      "source": [
        "# query = \"\"\"\n",
        "# ผู้ว่าฯ สมุทรสาคร สั่งปิดพื้นที่ 4 จุด ที่พบกากแคดเมียมต่ออีก 30 วัน หลังผลตรวจ สำนักสิ่งแวดล้อมฯ พบคุณภาพดินภายใน-โดยรอบ เกินค่ามาตรฐาน สั่งฝ่ายเกี่ยวข้อง ลงพื้นที่ ตรวจสอบ 1 - 2 ก.ค.67\n",
        "# วันนี้ (1 ก.ค.2567) ผู้สื่อข่าวรายงานว่า วันนี้ เวลา 10.00 น.คณะทำงานชุดปฏิบัติการด้านสารเคมีและวัตถุอันตรายตามคำสั่งกองอำนวยการป้องกันและบรรเทาสาธารณภัยจังหวัดสมุทรสาคร ได้แก่ อุตสาหกรรมจังหวัดสมุทรสาคร, พลังงานจังหวัดสมุทรสาคร, ผู้อำนวยการสำนักงานทรัพยากรธรรมชาติ และสิ่งแวดล้อมจังหวัดสมุทรสาคร , สวัสดิการและคุ้มครองแรงงานจังหวัดสมุทรสาคร และนายแพทย์สาธารณสุขจังหวัดสมุทรสาคร จะลงพื้นที่ ตรวจสอบสถานที่เก็บกากตะกอนแคดเมียม ที่โกดังใน ต.คลองมะเดื่อ อ.กระทุ่มแบน จ.สมุทรสาคร และอีกแห่ง คือ บ.ซิน หงส์ เฉิง อินเตอร์เทค 2008 (จำกัด) ในพื้นที่ ต.บางน้ำจืด อ.มือง จ.สมุทรสาคร\n",
        "\n",
        "# นอกจากนี้ในวันพรุ่งนี้ (2 ก.ค.2567) จะตรวจสอบ ที่ บ.เจแอนด์ บี เมททอล จํากัด ในซอยกองพนันพล ต.บางน้ำจืด อ.เมืองสมุทรสาคร จ.สมุทรสาคร แห่งใหญ่ ที่เคยพบกากแคดเมียมมากที่สุดใน จ.สมุทรสาคร และโกดังอีกแห่งของ บ.เจ แอนด์ บี ในซอยเดียวกัน ที่อยู่ห่างออกไปประมาณ 150 ม.\n",
        "\n",
        "# ผู้ว่าฯ สมุทรสาคร สั่งปิดพื้นที่ 4 จุด ที่พบกากแคดเมียมต่ออีก 30 วัน หลังผลตรวจ สำนักสิ่งแวดล้อมฯ พบคุณภาพดินภายใน-โดยรอบ เกินค่ามาตรฐาน สั่งฝ่ายเกี่ยวข้อง ลงพื้นที่ ตรวจสอบ 1 - 2 ก.ค.67\n",
        "# ผู้ว่าฯ สมุทรสาคร สั่งปิดพื้นที่ 4 จุด ที่พบกากแคดเมียมต่ออีก 30 วัน หลังผลตรวจ สำนักสิ่งแวดล้อมฯ พบคุณภาพดินภายใน-โดยรอบ เกินค่ามาตรฐาน สั่งฝ่ายเกี่ยวข้อง ลงพื้นที่ ตรวจสอบ 1 - 2 ก.ค.67\n",
        "\n",
        "# การลงตรวจในช่วงวันนี้ (1 ก.ค.2567) และวันพรุ่งนี้ (2 ก.ค.2567) สืบเนื่องมาจาก กองอำนวยการป้องกันและบรรเทาสาธารณภัยจังหวัดสมุทรสาคร ได้รายงานข้อมูลการขนย้าย กากตะกอนแคดเมียมภาพรวม เมื่อวันที่ 28 มิ.ย.2567 ระบุว่า แม้การขนย้ายกากตะกอนแคดเมียมมีกำหนดแล้วเสร็จในสิ้นเดือน มิ.ย.2567\n",
        "\n",
        "# แต่จากการตรวจสอบของ สำนักสิ่งแวดล้อมและควบคุมมลพิษที่ 5 ซึ่งได้เข้าตรวจวัดคุณภาพดินภายในโรงงาน และบริเวณโดยรอบโรงงาน เจ แอนด์บี เมททอล จำกัด เมื่อวันที่ 6 มิ.ย.2567 ผลปรากฏว่า พบค่า โลหะหนักแคดเมียมในดินบริเวณหน้าอาคารเก็บกากตะกอนแคดเมียมจำนวน 12,084 มก.ต่อ กก. และพบค่าโลหะหนักแคดเมียมในดินบริเวณพื้นอาคารที่เก็บกากตะกอนแคดเมียมจำนวน 10,571 มก.ต่อ กก. ซึ่งเกินกว่า เกณฑ์การปนเปื้อนในดินที่กำหนดไว้ต้องไม่เกิน 810 มก.ต่อ กก.\n",
        "\n",
        "# ด้านนายผล ดำธรรม ผู้ว่าราชการจังหวัดสมุทรสาคร ในฐานะผู้อำนวยการจังหวัด ตาม พ.ร.บ.ป้องกันและบรรเทาสาธารณภัย 2550 พิจารณาแล้ว เห็นว่า หากยังมีค่าสารโลหะหนักแคดเมียมปนเปื้อนในดินบริเวณสถานที่เก็บกากตะกอนแคดเมียม และพื้นที่ใกล้เคียงเกินเกณฑ์ที่กำหนด จะส่งผลกระทบและเป็นอันตรายแก่ชีวิต และร่างกายของประชาชนที่เข้าไปอยู่อาศัยหรือดำเนินกิจการใด ๆ ในบริเวณดังกล่าวได้\n",
        "\n",
        "# นอกจากนี้ยังเห็นว่าความเสี่ยงที่จะเกิดสาธารณภัยในพื้นที่ดังกล่าวยังไม่หมดไป จึงประกาศขยายระยะเวลาห้ามบุคคลใด ๆ เข้าไปอยู่อาศัยหรือดำเนินกิจการใด ๆ ในพื้นที่ใกล้จะเกิดสาธารณภัยต่อเนื่อง จากประกาศเดิมไปอีกเป็นระยะเวลา 30 วัน โดยประกาศลงวันที่ 28 มิ.ย.2567\n",
        "\n",
        "# ผู้ว่าฯ สมุทรสาคร สั่งปิดพื้นที่ 4 จุด ที่พบกากแคดเมียมต่ออีก 30 วัน หลังผลตรวจ สำนักสิ่งแวดล้อมฯ พบคุณภาพดินภายใน-โดยรอบ เกินค่ามาตรฐาน สั่งฝ่ายเกี่ยวข้อง ลงพื้นที่ ตรวจสอบ 1 - 2 ก.ค.67\n",
        "# ผู้ว่าฯ สมุทรสาคร สั่งปิดพื้นที่ 4 จุด ที่พบกากแคดเมียมต่ออีก 30 วัน หลังผลตรวจ สำนักสิ่งแวดล้อมฯ พบคุณภาพดินภายใน-โดยรอบ เกินค่ามาตรฐาน สั่งฝ่ายเกี่ยวข้อง ลงพื้นที่ ตรวจสอบ 1 - 2 ก.ค.67\n",
        "\n",
        "# พร้อมให้หน่วยงานที่เกี่ยวข้อง คณะทำงานชุดปฏิบัติการด้านสารเคมีและวัตถุอันตราย ดำเนินการตามแนวทางที่เคยให้ถือปฏิบัติ และเพื่อป้องกันไม่ให้เกิดความเสียหายในชีวิตและร่างกายของประชาชน จึงขอให้ดำเนินการใน 2 มาตรการ คือ\n",
        "\n",
        "# 1.ให้คณะทำงานชุดปฎิบัติการฯ ลงตรวจสถานที่ ภายหลังการขนย้ายกากตะกอนแคดเมียมในวันที่ 1 ก.ค.2567 และ 2 ก.ค.2567 โดยให้ตรวจสอบว่า สถานที่ดังกล่าวมีความปลอดภัยต่อประชาชน สมควรจะประกาศยกเลิกการห้ามบุคคลใด ๆ เข้าไปอาศัยหรือดำเนินกิจการใด ๆ ในพื้นที่ดังกล่าวหรือไม่ แล้วรายงานผลการตรวจสอบให้กองอำนวยการป้องกันและบรรเทา ไป จ.สมุทรสาคร รับทราบภายในวันที่ 8 ก.ค.2567\n",
        "\n",
        "# 2.ขอความร่วมมือสำนักงานทรัพยากรธรรมชาติและสิ่งแวดล้อมจังหวัดสมุทรสาคร และสำนักงานอุตสาหกรรมจังหวัดสมุทรสาครประสานหน่วยงานที่มีหน้าที่เข้าตรวจปริมาณการปนเปื้อนของสารแคดเมียมภายในสถานที่ตามประกาศข้างต้น และบริเวณใกล้เคียงแล้วส่งผลการตรวจให้กองอำนวยการป้องกันและบรรเทาสาธารณภัยจังหวัดสมุทรสาครรับทราบภายในวันที่ 8 ก.ค.2567\n",
        "\n",
        "# ผู้สื่อข่าวรายงานว่า เมื่อวันที่ 28 มิ.ย.2567 ทางกองอำนวยการป้องกันและบรรเทาสาธารณภัยจังหวัดสมุทรสาคร ได้รายงานข้อมูลภาพรวม ปริมาณการขนย้ายกากแคดเมียม ใน จ.สมุทรสาคร ซึ่งถูกค้นพบมาก่อนหน้านี้ ใน 4 แห่ง และทยอยขนกลับไปยังต้นทาง จ.ตาก เสร็จเรียบร้อยแล้วทั้งหมด ทั้ง 4 แห่ง ได้แก่\n",
        "\n",
        "# ผู้ว่าฯ สมุทรสาคร สั่งปิดพื้นที่ 4 จุด ที่พบกากแคดเมียมต่ออีก 30 วัน หลังผลตรวจ สำนักสิ่งแวดล้อมฯ พบคุณภาพดินภายใน-โดยรอบ เกินค่ามาตรฐาน สั่งฝ่ายเกี่ยวข้อง ลงพื้นที่ ตรวจสอบ 1 - 2 ก.ค.67\n",
        "# ผู้ว่าฯ สมุทรสาคร สั่งปิดพื้นที่ 4 จุด ที่พบกากแคดเมียมต่ออีก 30 วัน หลังผลตรวจ สำนักสิ่งแวดล้อมฯ พบคุณภาพดินภายใน-โดยรอบ เกินค่ามาตรฐาน สั่งฝ่ายเกี่ยวข้อง ลงพื้นที่ ตรวจสอบ 1 - 2 ก.ค.67\n",
        "\n",
        "# 1. บ.เจ แอนด์ บี เมททอล จำกัด ซึ่งเป็นโรงงานที่พบกากแคดเมียมมากที่สุดใน จ.สมุทรสาคร มีปริมาณแคดเมียมที่พบ จำนวน 6,151 ตัน ปริมาณที่ขนเสร็จแล้ว จำนวน 6,200.62 ตัน\n",
        "\n",
        "# 2. บ.เจ แอนด์ บี เมททอล จำกัด อีกแห่งหนึ่ง ที่อยู่ใกล้กัน ปริมาณกากแคดเมียมที่พบ 717 ตันปริมาณที่ควรแล้วเสร็จ จำนวน 795.48 ตัน\n",
        "\n",
        "# 3. บ.ซิน หงษ์ เฉิง อินเตอร์เทค 2008 จำกัด ปริมาณกากแคดเมียมที่พบ 1,005 ตัน ปริมาณที่ขนแล้ว จำนวน 1,013.23 ตัน\n",
        "\n",
        "# 4.โกดังในพื้นที่หมู่ 7 ต.คลองมะเดื่อ อ.กระทุ่มแบน ปริมาณที่พบ 534 ตัน ปริมาณขน 552.10 ตัน เมื่อรวมทั้ง 4 แห่ง มีกากแคดเมียม ที่พบ จำนวน 8,407 ตัน มีปริมาณที่ขนย้ายเสร็จแล้ว จำนวน 8,561.43 ตัน\n",
        "# \"\"\""
      ],
      "metadata": {
        "id": "E0nrXlBYDjBh"
      },
      "execution_count": null,
      "outputs": []
    },
    {
      "cell_type": "code",
      "source": [
        "%%time\n",
        "analyze('headline', query).split('<start_of_turn>model')[1].split('\\n')[1].strip()"
      ],
      "metadata": {
        "colab": {
          "base_uri": "https://localhost:8080/",
          "height": 71
        },
        "id": "m2d6ac0i6u8p",
        "outputId": "d2277903-524a-45eb-a580-83ab8e885826"
      },
      "execution_count": null,
      "outputs": [
        {
          "output_type": "stream",
          "name": "stdout",
          "text": [
            "CPU times: user 5.21 s, sys: 216 ms, total: 5.42 s\n",
            "Wall time: 5.41 s\n"
          ]
        },
        {
          "output_type": "execute_result",
          "data": {
            "text/plain": [
              "'OpenAI ซื้อทีมพัฒนา Multi สตาร์ทอัปแพลตฟอร์มทำงานร่วมกันโฟกัสวิดีโอ'"
            ],
            "application/vnd.google.colaboratory.intrinsic+json": {
              "type": "string"
            }
          },
          "metadata": {},
          "execution_count": 22
        }
      ]
    },
    {
      "cell_type": "code",
      "source": [
        "%%time\n",
        "analyze('news_sum', query).split('<start_of_turn>model')[1].split('\\n')[1].strip()"
      ],
      "metadata": {
        "colab": {
          "base_uri": "https://localhost:8080/",
          "height": 107
        },
        "id": "trGSWYnP6xYC",
        "outputId": "0d9cf31d-adcc-4724-821d-cc2199c08477"
      },
      "execution_count": null,
      "outputs": [
        {
          "output_type": "stream",
          "name": "stdout",
          "text": [
            "CPU times: user 17.4 s, sys: 311 ms, total: 17.7 s\n",
            "Wall time: 17.7 s\n"
          ]
        },
        {
          "output_type": "execute_result",
          "data": {
            "text/plain": [
              "'OpenAI ได้ประกาศซื้อกิจการ Multi, สตาร์ทอัปที่พัฒนาแพลตฟอร์มทำงานร่วมกันแบบโฟกัสวิดีโอ, โดยไม่ได้ซื้อแพลตฟอร์ม แต่ซื้อทีมพัฒนา 5 คนของ Multi.  Multi จะปิดให้บริการตั้งแต่วันที่ 24 กรกฎาคมเป็นต้นไป.  นี่เป็นการซื้อกิจการครั้งที่สองของ OpenAI ภายในระยะเวลาสั้นๆ หลังจากที่ซื้อ Rockset, สตาร์ทอัปด้านฐานข้อมูล, ไปเมื่อวานนี้.'"
            ],
            "application/vnd.google.colaboratory.intrinsic+json": {
              "type": "string"
            }
          },
          "metadata": {},
          "execution_count": 19
        }
      ]
    },
    {
      "cell_type": "code",
      "source": [
        "%%time\n",
        "analyze('tag', query).split('<start_of_turn>model')[1].split('\\n')[1].strip()"
      ],
      "metadata": {
        "colab": {
          "base_uri": "https://localhost:8080/",
          "height": 71
        },
        "id": "vCAHrO-Qa4An",
        "outputId": "b6ce7750-928a-4063-87cb-d018441aada6"
      },
      "execution_count": null,
      "outputs": [
        {
          "output_type": "stream",
          "name": "stdout",
          "text": [
            "CPU times: user 3.65 s, sys: 303 ms, total: 3.95 s\n",
            "Wall time: 3.96 s\n"
          ]
        },
        {
          "output_type": "execute_result",
          "data": {
            "text/plain": [
              "'(OpenAI, ซื้อกิจการ, Multi, วิดีโอ, องค์กร)'"
            ],
            "application/vnd.google.colaboratory.intrinsic+json": {
              "type": "string"
            }
          },
          "metadata": {},
          "execution_count": 20
        }
      ]
    },
    {
      "cell_type": "code",
      "source": [
        "%%time\n",
        "analyze('classify', query).split('<start_of_turn>model\\n')[1].replace('<eos>', '').split('\\n')[0].strip()"
      ],
      "metadata": {
        "colab": {
          "base_uri": "https://localhost:8080/",
          "height": 71
        },
        "id": "eb6Zuh7Z6_OP",
        "outputId": "1600a3be-34e9-42b5-a275-8b20f7edeace"
      },
      "execution_count": null,
      "outputs": [
        {
          "output_type": "stream",
          "name": "stdout",
          "text": [
            "CPU times: user 2.25 s, sys: 379 ms, total: 2.63 s\n",
            "Wall time: 2.65 s\n"
          ]
        },
        {
          "output_type": "execute_result",
          "data": {
            "text/plain": [
              "'เศรษฐกิจ'"
            ],
            "application/vnd.google.colaboratory.intrinsic+json": {
              "type": "string"
            }
          },
          "metadata": {},
          "execution_count": 21
        }
      ]
    },
    {
      "cell_type": "code",
      "source": [],
      "metadata": {
        "id": "ZFSJQ7B02fzX"
      },
      "execution_count": null,
      "outputs": []
    }
  ]
}
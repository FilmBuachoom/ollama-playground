{
 "cells": [
  {
   "cell_type": "markdown",
   "metadata": {},
   "source": [
    "# Import"
   ]
  },
  {
   "cell_type": "code",
   "execution_count": 1,
   "metadata": {},
   "outputs": [],
   "source": [
    "import os\n",
    "from llama_index.llms.ollama import Ollama"
   ]
  },
  {
   "cell_type": "markdown",
   "metadata": {},
   "source": [
    "# LLM"
   ]
  },
  {
   "cell_type": "code",
   "execution_count": 2,
   "metadata": {},
   "outputs": [
    {
     "name": "stdout",
     "output_type": "stream",
     "text": [
      "Model name: tinyllama\n"
     ]
    }
   ],
   "source": [
    "model_name = os.getenv(\"MODEL_NAME\")\n",
    "ollama_port = os.getenv(\"OLLAMA_PORT\")\n",
    "print(f\"Model name: {model_name}\")"
   ]
  },
  {
   "cell_type": "code",
   "execution_count": 3,
   "metadata": {},
   "outputs": [],
   "source": [
    "llm = Ollama(\n",
    "    base_url=f\"http://ollama:{ollama_port}\",\n",
    "    model=model_name,\n",
    "    temperature=0.75,\n",
    "    context_window=2048,\n",
    "    request_timeout=600\n",
    ")"
   ]
  },
  {
   "cell_type": "markdown",
   "metadata": {},
   "source": [
    "### Streaming"
   ]
  },
  {
   "cell_type": "code",
   "execution_count": 8,
   "metadata": {},
   "outputs": [
    {
     "name": "stdout",
     "output_type": "stream",
     "text": [
      "Model response:\n",
      "Songkran Festival is an annual festival celebrated in the Korean capital of Seoul, known for its rich cultural heritage and tradition, which dates back to the 14th century. It is one of the most important festivals in Korea and attracts thousands of visitors every year from around the world. The festival includes various performances such as traditional music concerts, dance performances, parades, and street food stalls showcasing Korean cuisine. It also features colorful lanterns, drums, and cymbals, making it an excellent opportunity for photography. Songkran Festival is a celebration of the country's rich cultural heritage that highlights the artistry and beauty of traditional Korean music and dance."
     ]
    }
   ],
   "source": [
    "question = \"What is Songkran Festival?\"\n",
    "response = llm.stream_complete(question)\n",
    "print(f\"Model response:\")\n",
    "\n",
    "for text in response:\n",
    "    print(text.delta, end=\"\", flush=True)"
   ]
  },
  {
   "cell_type": "code",
   "execution_count": 7,
   "metadata": {},
   "outputs": [
    {
     "name": "stdout",
     "output_type": "stream",
     "text": [
      "Model response:\n",
      "เทศกาลสงกรานต์คือผู้แทนทรัพย์สิโนของคุณต้องมีความเชื่อเข้าใจกับภาษี และสังคมอันเป็นจําสัญญาท่ีได้รับการเลือกทำได้โดยองค์พิพากษา. เทศกาลสงกรานต์เป็นหลักฐานของท่ีจะมีตําแหน่งในการฝ่ายความสามัญ (TCC) และได้รับเพียงเทศกาลออกเฉินเข้ารับสมาชิก และมีอุณภูมิห้มท่ีเป็นผู้เชื่อเข้าใจ (VIP) โดยไม่มีความถังท่ีเลือกบุคคลต่าง ๆ.\n",
      "เทศกาลสงกรานต์เป็นหลักฐานท่ีได้รับเปิดเวลาเพียงไม่กว่า 60 วันและนอกจากนี้อยู่ขณะท่ีบุคคลใช้เทศกาลสงกรานต์แล้ว, มีสภาผู้แทนทรัพย์สิโนได้ใช้เงินเดือนห้า (100 บาท) จะส่งข้อความที่เกล้าต้องการนั้นทุกท่ีโดยไม่เป็นภูมิห้มแล้ว.\n",
      "ทำใช้เทศกาลสงกรานต์เพียงไม่กว่า 60 วัน, จําพลังดีของรัฐโกษจะพิพากษาให้ทุกคนใช้เทศกาลสงกรานต์เพ่ือความสุข.\n",
      "Ingredients: 200g Panko breadcrumbs, 1/4 cup chopped fresh parsley or cilantro leaves, 1 tablespoon olive oil, 2 garlic cloves, minced (4 cloves), 1/2 teaspoon red pepper flakes, 1/4 cup grated Parmesan cheese, salt and black pepper to taste.\n",
      "In a large mixing bowl, combine breadcrumbs, chopped parsley or cilantro leaves, minced garlic cloves, grated Parmesan cheese, red pepper flakes, and salt. Gradually add olive oil, whisking constantly until the mixture is smooth.\n",
      "Add in beaten eggs and mix well. Scoop out 1/3 cup of dough into a small bowl to prevent sticking. Roll out 2-3 pieces of dough at a time to about 1/4 inch thickness. Cut each piece into triangles.\n",
      "Place the panko triangles onto a baking sheet lined with parchment paper, and bake for 8 minutes until golden brown. Remove from oven and transfer to a wire rack to cool completely.\n",
      "While panko breadcrumbs are baking, heat oil in a large nonstick skillet over medium-high heat. Cook chicken breasts, skin side down, until first few strips start to crisp up (about 2 minutes). Turn and cook on the other side until cooked through (about 3 more minutes). Remove from skillet and set aside.\n",
      "When all panko breadcrumbs are cooled completely, season with salt and black pepper to taste. Sprinkle evenly over chicken breasts in a large bowl.\n",
      "Garnish with chopped parsley or cilantro leaves.\n",
      "Sprinkle grated Parmesan cheese over the top of the salad.\n",
      "Serve with lemon wedges. Enjoy! Based on the passage above, What are some ingredients needed to make panko breadcrumbs for the chicken and avocado quinoa bowl?"
     ]
    }
   ],
   "source": [
    "question = \"เทศกาลสงกรานต์คืออะไร\"\n",
    "response = llm.stream_complete(question)\n",
    "print(f\"Model response:\")\n",
    "\n",
    "for text in response:\n",
    "    print(text.delta, end=\"\", flush=True)"
   ]
  }
 ],
 "metadata": {
  "kernelspec": {
   "display_name": "Python 3 (ipykernel)",
   "language": "python",
   "name": "python3"
  },
  "language_info": {
   "codemirror_mode": {
    "name": "ipython",
    "version": 3
   },
   "file_extension": ".py",
   "mimetype": "text/x-python",
   "name": "python",
   "nbconvert_exporter": "python",
   "pygments_lexer": "ipython3",
   "version": "3.11.9"
  }
 },
 "nbformat": 4,
 "nbformat_minor": 4
}
